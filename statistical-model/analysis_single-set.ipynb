{
 "cells": [
  {
   "cell_type": "code",
   "execution_count": 47,
   "metadata": {
    "colab": {
     "base_uri": "https://localhost:8080/"
    },
    "executionInfo": {
     "elapsed": 114424,
     "status": "ok",
     "timestamp": 1625758715476,
     "user": {
      "displayName": "Pablo C.",
      "photoUrl": "https://lh3.googleusercontent.com/a-/AOh14Ggc_WWpKQk1V8IhvtNOMR7ePda3w3nNqzw22UmG=s64",
      "userId": "11237887750989754135"
     },
     "user_tz": -60
    },
    "id": "G9tOvpm7bDV1",
    "outputId": "74223095-fc11-4a57-e25e-d96193d2206c"
   },
   "outputs": [],
   "source": [
    "import pandas as pd\n",
    "import numpy as np\n",
    "from numpy import cumsum\n",
    "import re\n",
    "\n",
    "import matplotlib.pyplot as plt\n",
    "import matplotlib.dates as mdates\n",
    "import matplotlib.cbook as cbook\n",
    "\n",
    "import datetime\n",
    "from datetime import date\n",
    "from datetime import datetime\n",
    "from datetime import timedelta\n",
    "\n",
    "import warnings\n",
    "import statistics\n",
    "warnings.filterwarnings(\"ignore\")\n",
    "\n",
    "today_date = datetime.strptime('2021-08-18', \"%Y-%m-%d\").date()"
   ]
  },
  {
   "cell_type": "markdown",
   "metadata": {
    "id": "gPQALrMsbDV-"
   },
   "source": [
    "### LOAD DATAFRAME\n",
    "\n",
    "You can find both these datasets in the 'data' folder."
   ]
  },
  {
   "cell_type": "code",
   "execution_count": 31,
   "metadata": {
    "executionInfo": {
     "elapsed": 175683,
     "status": "ok",
     "timestamp": 1625758891154,
     "user": {
      "displayName": "Pablo C.",
      "photoUrl": "https://lh3.googleusercontent.com/a-/AOh14Ggc_WWpKQk1V8IhvtNOMR7ePda3w3nNqzw22UmG=s64",
      "userId": "11237887750989754135"
     },
     "user_tz": -60
    },
    "id": "XyXg1hwfbDV-"
   },
   "outputs": [],
   "source": [
    "df_set = pd.read_csv('./data/singles.csv')\n",
    "df_box = pd.read_csv('./data/boxes.csv')\n",
    "\n",
    "df_set['date'] = pd.to_datetime(df['date'],format='%Y-%m-%d')\n",
    "df_set['date'] = pd.to_datetime(df['date']).dt.date\n",
    "\n",
    "df_box['date'] = pd.to_datetime(df_box['date'],format='%Y-%m-%d')\n",
    "df_box['date'] = df_box['date'].dt.date"
   ]
  },
  {
   "cell_type": "markdown",
   "metadata": {
    "id": "MGfU12b8bDV_"
   },
   "source": [
    "### FILTER DATAFRAME"
   ]
  },
  {
   "cell_type": "markdown",
   "metadata": {
    "id": "USEujwDgkmO0"
   },
   "source": [
    "#### MODERN HORIZONS 2"
   ]
  },
  {
   "cell_type": "code",
   "execution_count": 36,
   "metadata": {
    "colab": {
     "base_uri": "https://localhost:8080/"
    },
    "executionInfo": {
     "elapsed": 536,
     "status": "ok",
     "timestamp": 1625758892124,
     "user": {
      "displayName": "Pablo C.",
      "photoUrl": "https://lh3.googleusercontent.com/a-/AOh14Ggc_WWpKQk1V8IhvtNOMR7ePda3w3nNqzw22UmG=s64",
      "userId": "11237887750989754135"
     },
     "user_tz": -60
    },
    "id": "TZm7IdQVffEa",
    "outputId": "91b34397-fb61-42f3-8dd2-18cd1c9e9755"
   },
   "outputs": [
    {
     "data": {
      "text/plain": [
       "48"
      ]
     },
     "execution_count": 36,
     "metadata": {},
     "output_type": "execute_result"
    }
   ],
   "source": [
    "#LOADING SPECIAL CARDS\n",
    "sheet_url = 'https://docs.google.com/spreadsheets/d/1Xa-EuwjX5o7K8Ywgeb9qsaFY_zCv6gW4WdveXrT4h4Q/gviz/tq?tqx=out:csv&sheet=CSV'\n",
    "df_special_cards = pd.read_csv(sheet_url)\n",
    "\n",
    "special_cards = df_special_cards.card.unique()\n",
    "\n",
    "len(special_cards)"
   ]
  },
  {
   "cell_type": "code",
   "execution_count": 48,
   "metadata": {
    "executionInfo": {
     "elapsed": 1211,
     "status": "ok",
     "timestamp": 1625758893330,
     "user": {
      "displayName": "Pablo C.",
      "photoUrl": "https://lh3.googleusercontent.com/a-/AOh14Ggc_WWpKQk1V8IhvtNOMR7ePda3w3nNqzw22UmG=s64",
      "userId": "11237887750989754135"
     },
     "user_tz": -60
    },
    "id": "1CtJEtcpbDWA"
   },
   "outputs": [],
   "source": [
    "special_filter = pd.DataFrame()\n",
    "for special_card in special_cards:\n",
    "  scard = df_set.loc[(df_set['card_name'].str.contains(special_card)) & (df_set['date'] == today_date) & (df_set['card_name'].str.contains('V.2')==False)]\n",
    "  special_filter = special_filter.append(scard, ignore_index=True)\n",
    "\n",
    "mythic_filter = df_set.loc[(df_set['rarity'] == 'Mythic') & (df_set['card_name'].str.contains(\"(V.2)\")==False)]\n",
    "rare_filter = df_set.loc[(df_set['rarity'] == 'Rare') & (df_set['card_name'].str.contains(\"(V.2)\")==False)]\n",
    "\n",
    "concat_ev = pd.concat([special_filter, mythic_filter,rare_filter])\n",
    "df_ev = pd.DataFrame(concat_ev, columns=['date','card_set','rarity','card_name','price','availability','price_foil','availability_foil'])"
   ]
  },
  {
   "cell_type": "markdown",
   "metadata": {
    "id": "zdXJ5dakbDWA"
   },
   "source": [
    "### CALCULATIONS\n",
    "\n",
    "Calculating different pricing datapoints."
   ]
  },
  {
   "cell_type": "code",
   "execution_count": 50,
   "metadata": {
    "executionInfo": {
     "elapsed": 198,
     "status": "ok",
     "timestamp": 1625758893524,
     "user": {
      "displayName": "Pablo C.",
      "photoUrl": "https://lh3.googleusercontent.com/a-/AOh14Ggc_WWpKQk1V8IhvtNOMR7ePda3w3nNqzw22UmG=s64",
      "userId": "11237887750989754135"
     },
     "user_tz": -60
    },
    "id": "KS8CSn5DbDWA"
   },
   "outputs": [],
   "source": [
    "# AVERAGE PRICE\n",
    "\n",
    "avg_price = df_ev.groupby(['date','rarity'])['price'].mean().reset_index(name='avg_price')\n",
    "avg_pricefoil = df_ev.groupby(['date','rarity'])['price_foil'].mean().reset_index(name='avg_price_foil')\n",
    "\n",
    "\n",
    "# MEDIAN PRICE\n",
    "\n",
    "median_prices = df_ev.groupby(['date','rarity'])['price'].median().reset_index(name='median_price')\n",
    "median_pricesfoil = df_ev.groupby(['date','rarity'])['price_foil'].median().reset_index(name='median_price_foil')\n",
    "\n",
    "\n",
    "# CALCULATING ESTIMATED VALUE (EV) OF A BOX\n",
    "\n",
    "box_ev_calc = avg_price.merge(avg_pricefoil, on=['date','rarity'])\n",
    "box_ev_calc = box_ev_calc.merge(median_prices, on=['date','rarity'])\n",
    "box_ev_calc = box_ev_calc.merge(median_pricesfoil, on=['date','rarity'])\n",
    "\n",
    "box_ev_calc['box_ev'] = 0\n",
    "box_prices = df_box.loc[df_box['box_name'].str.contains(\"Modern Horizons 2 Draft\")][[\"date\", \"box_price\"]]\n",
    "\n",
    "box_ev_calc.loc[box_ev_calc['rarity'] == 'Time Shifted', 'avg_ev'] = box_ev_calc['avg_price']*36\n",
    "box_ev_calc.loc[box_ev_calc['rarity'] == 'Mythic', 'avg_ev'] = box_ev_calc['avg_price']*3\n",
    "box_ev_calc.loc[box_ev_calc['rarity'] == 'Rare', 'avg_ev'] = box_ev_calc['avg_price']*33\n",
    "\n",
    "median_prices.loc[median_prices['rarity'] == 'Time Shifted', 'median_ev'] = median_prices['median_price']*36\n",
    "median_prices.loc[median_prices['rarity'] == 'Mythic', 'median_ev'] = median_prices['median_price']*3\n",
    "median_prices.loc[median_prices['rarity'] == 'Rare', 'median_ev'] = median_prices['median_price']*33\n",
    "\n",
    "df_median_ev = median_prices.groupby(['date'])['median_ev'].sum().reset_index(name='median_ev')\n",
    "df_box_ev = box_ev_calc.groupby(['date'])['avg_ev'].sum().reset_index(name='avg_ev')\n",
    "df_box_ev = df_box_ev.merge(df_median_ev, on='date')\n",
    "df_box_ev = df_box_ev.merge(box_prices, on='date')"
   ]
  },
  {
   "cell_type": "markdown",
   "metadata": {},
   "source": [
    "#### PRINTING LAST DATE'S STATISTICS\n",
    "\n",
    "Statistical information about the last recorded date."
   ]
  },
  {
   "cell_type": "code",
   "execution_count": 51,
   "metadata": {
    "colab": {
     "base_uri": "https://localhost:8080/"
    },
    "executionInfo": {
     "elapsed": 14,
     "status": "ok",
     "timestamp": 1625758893525,
     "user": {
      "displayName": "Pablo C.",
      "photoUrl": "https://lh3.googleusercontent.com/a-/AOh14Ggc_WWpKQk1V8IhvtNOMR7ePda3w3nNqzw22UmG=s64",
      "userId": "11237887750989754135"
     },
     "user_tz": -60
    },
    "id": "xKHS1bcNbDWB",
    "outputId": "73fff2a9-78e4-4b9d-9490-dc8df116d64d"
   },
   "outputs": [
    {
     "name": "stdout",
     "output_type": "stream",
     "text": [
      "Mean Price - Mythic\n",
      "8.86\n",
      "Standard Deviation - Mythic\n",
      "11.52\n",
      "Variance - Mythic\n",
      "132.77\n",
      "------\n",
      "Mean Price - Rare\n",
      "2.55\n",
      "Standard Deviation - Rare\n",
      "6.32\n",
      "Variance - Rare\n",
      "39.93\n",
      "------\n",
      "Mean Price - Special\n",
      "3.37\n",
      "Standard Deviation - Special\n",
      "7.44\n",
      "Variance - Special\n",
      "55.35\n"
     ]
    }
   ],
   "source": [
    "print(\"Mean Price - Mythic\")\n",
    "print(round(mythic_filter.loc[mythic_filter['date'] == today_date]['price'].mean(), 2))\n",
    "print(\"Standard Deviation - Mythic\")\n",
    "print(round(statistics.pstdev(mythic_filter.loc[mythic_filter['date'] == today_date]['price'].to_numpy()),2))\n",
    "print(\"Variance - Mythic\")\n",
    "print(round(statistics.pvariance(mythic_filter.loc[mythic_filter['date'] == today_date]['price'].to_numpy()),2))\n",
    "print(\"------\")\n",
    "print(\"Mean Price - Rare\")\n",
    "print(round(rare_filter.loc[rare_filter['date'] == today_date]['price'].mean(),2))\n",
    "print(\"Standard Deviation - Rare\")\n",
    "print(round(statistics.pstdev(rare_filter.loc[rare_filter['date'] == today_date]['price'].to_numpy()),2))\n",
    "print(\"Variance - Rare\")\n",
    "print(round(statistics.pvariance(rare_filter.loc[rare_filter['date'] == today_date]['price'].to_numpy()),2))\n",
    "print(\"------\")\n",
    "print(\"Mean Price - Special\")\n",
    "print(round(special_filter.loc[special_filter['date'] == today_date]['price'].mean(),2))\n",
    "print(\"Standard Deviation - Special\")\n",
    "print(round(statistics.pstdev(special_filter.loc[special_filter['date'] == today_date]['price'].to_numpy()), 2))\n",
    "print(\"Variance - Special\")\n",
    "print(round(statistics.pvariance(special_filter.loc[special_filter['date'] == today_date]['price'].to_numpy()),2))"
   ]
  },
  {
   "cell_type": "markdown",
   "metadata": {},
   "source": [
    "### PREPARING BOX PRICES DATA"
   ]
  },
  {
   "cell_type": "code",
   "execution_count": 52,
   "metadata": {
    "executionInfo": {
     "elapsed": 8,
     "status": "ok",
     "timestamp": 1625758893525,
     "user": {
      "displayName": "Pablo C.",
      "photoUrl": "https://lh3.googleusercontent.com/a-/AOh14Ggc_WWpKQk1V8IhvtNOMR7ePda3w3nNqzw22UmG=s64",
      "userId": "11237887750989754135"
     },
     "user_tz": -60
    },
    "id": "EkZEPQ_3bDWD"
   },
   "outputs": [],
   "source": [
    "df_box_ev['box_price'] = df_box_ev['box_price'].astype(np.float64)\n",
    "# That was easy!"
   ]
  },
  {
   "cell_type": "markdown",
   "metadata": {},
   "source": [
    "### PLOTTING THE CHART - VISUALISING THE DATA\n",
    "\n",
    "By charting the dataset, we can quickly see where we stand and where are the opportunities and pitfalls."
   ]
  },
  {
   "cell_type": "code",
   "execution_count": 80,
   "metadata": {
    "colab": {
     "base_uri": "https://localhost:8080/",
     "height": 612
    },
    "executionInfo": {
     "elapsed": 969,
     "status": "ok",
     "timestamp": 1625758894664,
     "user": {
      "displayName": "Pablo C.",
      "photoUrl": "https://lh3.googleusercontent.com/a-/AOh14Ggc_WWpKQk1V8IhvtNOMR7ePda3w3nNqzw22UmG=s64",
      "userId": "11237887750989754135"
     },
     "user_tz": -60
    },
    "id": "VDIfuBnCbDWE",
    "outputId": "7e4c7911-e4e5-413a-d5c6-55e264b9798c"
   },
   "outputs": [
    {
     "data": {
      "image/png": "[encoded data removed]",
      "text/plain": [
       "<Figure size 1440x720 with 1 Axes>"
      ]
     },
     "metadata": {
      "needs_background": "light"
     },
     "output_type": "display_data"
    }
   ],
   "source": [
    "fig, ax = plt.subplots(figsize=(20,10))\n",
    "\n",
    "day_span = 7\n",
    "\n",
    "plt.plot(df_box_ev['date'][day_span:],df_box_ev['avg_ev'][day_span:], lw=2.0, label='Average EV', color=\"slateblue\")\n",
    "plt.plot(df_box_ev['date'][day_span:],df_box_ev['median_ev'][day_span:], lw=2.0, label='Median EV', color=\"crimson\")\n",
    "plt.plot(df_box_ev['date'][day_span:],df_box_ev['box_price'][day_span:], lw=2.0, label='Box Retail Price', color=\"yellowgreen\")\n",
    "    \n",
    "plt.title('Modern Horizons 2 Draft Box - Box EV vs Retail Price', fontsize=18, color='black', loc=\"left\")\n",
    "plt.ylabel(\"EV/Price in Euros\", fontsize=12, color='black')\n",
    "ax.xaxis.set_major_locator(mdates.DayLocator(interval=5))\n",
    "ax.get_xaxis().set_major_formatter(mdates.DateFormatter(\"%d %b\"))\n",
    "plt.legend(loc='center left', bbox_to_anchor=(0.02, 0.2))\n",
    "#plt.yticks(np.arange(find_card['price']), max(find_card['price']), 14.0)\n",
    "ax.set_ylim(ymin=0) ## SETTING AXIS TO 0\n",
    "plt.tick_params(direction='out', length=4, width=1, colors='black')\n",
    "plt.grid(True, color='gainsboro')\n",
    "plt.show()"
   ]
  },
  {
   "cell_type": "markdown",
   "metadata": {
    "id": "xsMctZ_De0rx"
   },
   "source": [
    "### BOX GENERATOR\n",
    "\n",
    "This function will generate a box for X number of times (function input). It will calculate the estimated value - the expect value of every card inside the box, which will help players to understand if there's good returns in opening boxes of a set."
   ]
  },
  {
   "cell_type": "code",
   "execution_count": 74,
   "metadata": {
    "executionInfo": {
     "elapsed": 6,
     "status": "ok",
     "timestamp": 1625758894665,
     "user": {
      "displayName": "Pablo C.",
      "photoUrl": "https://lh3.googleusercontent.com/a-/AOh14Ggc_WWpKQk1V8IhvtNOMR7ePda3w3nNqzw22UmG=s64",
      "userId": "11237887750989754135"
     },
     "user_tz": -60
    },
    "id": "NT3KkQI0e223"
   },
   "outputs": [],
   "source": [
    "mythic_filter_today = df_set.loc[(df_set['rarity'] == 'Mythic') & (df_set['date'] == today_date) & (df_set['card_name'].str.contains(\"(V.2)\")==False)]\n",
    "rare_filter_today = df_set.loc[(df_set['rarity'] == 'Rare') & (df_set['date'] == today_date) & (df_set['card_name'].str.contains(\"(V.2)\")==False)]\n",
    "special_filter_today = special_filter.loc[special_filter['date'] == today_date]\n",
    "\n",
    "def box_generator(times):\n",
    "    global boxes_model\n",
    "    box_generated = []\n",
    "    boxes_model = []\n",
    "    for boxes_to_generate in range(times):\n",
    "        for mythics in range(3):\n",
    "            mythic_row = mythic_filter_today['price'].sample()\n",
    "            mythic_v = mythic_row.iloc[0]\n",
    "            box_generated.append(mythic_v)\n",
    "        for rares in range(33):\n",
    "            rare_row = rare_filter_today['price'].sample()\n",
    "            rare_v = rare_row.iloc[0]\n",
    "            box_generated.append(rare_v)\n",
    "        for specials in range(36):\n",
    "            special_row = special_filter_today['price'].sample()\n",
    "            special_v = special_row.iloc[0]\n",
    "            box_generated.append(special_v)\n",
    "        one_box_ev = sum(box_generated)\n",
    "        boxes_model.append(one_box_ev)\n",
    "        box_generated = []\n",
    "    #print(boxes_model)\n",
    "    print('-Average Price Per Box: €'+str(sum(boxes_model) // len(boxes_model)))\n",
    "    print('-Standard Deviation: '+str(statistics.pstdev(boxes_model)))\n",
    "    print('-Min. Box EV: €' +str(min(boxes_model).round(2)))\n",
    "    print('-Max. Box EV: €' +str(max(boxes_model).round(2)))"
   ]
  },
  {
   "cell_type": "code",
   "execution_count": 78,
   "metadata": {
    "colab": {
     "base_uri": "https://localhost:8080/"
    },
    "executionInfo": {
     "elapsed": 72187,
     "status": "ok",
     "timestamp": 1625758966846,
     "user": {
      "displayName": "Pablo C.",
      "photoUrl": "https://lh3.googleusercontent.com/a-/AOh14Ggc_WWpKQk1V8IhvtNOMR7ePda3w3nNqzw22UmG=s64",
      "userId": "11237887750989754135"
     },
     "user_tz": -60
    },
    "id": "y67WYfq9gYHx",
    "outputId": "a553eab5-3e6a-4ab0-f8b0-4877d85fba3e"
   },
   "outputs": [
    {
     "name": "stdout",
     "output_type": "stream",
     "text": [
      "-Average Price Per Box: €232.0\n",
      "-Standard Deviation: 60.57174925032912\n",
      "-Min. Box EV: €48.09\n",
      "-Max. Box EV: €493.97\n"
     ]
    }
   ],
   "source": [
    "box_generator(10000)"
   ]
  },
  {
   "cell_type": "markdown",
   "metadata": {},
   "source": [
    "#### BOXES DISTRIBUTION (HISTOGRAM)\n",
    "\n",
    "What are the chances of recouping our investment?"
   ]
  },
  {
   "cell_type": "code",
   "execution_count": 79,
   "metadata": {
    "colab": {
     "base_uri": "https://localhost:8080/",
     "height": 605
    },
    "executionInfo": {
     "elapsed": 2039,
     "status": "ok",
     "timestamp": 1625758968866,
     "user": {
      "displayName": "Pablo C.",
      "photoUrl": "https://lh3.googleusercontent.com/a-/AOh14Ggc_WWpKQk1V8IhvtNOMR7ePda3w3nNqzw22UmG=s64",
      "userId": "11237887750989754135"
     },
     "user_tz": -60
    },
    "id": "Pz-7-9r2HtfL",
    "outputId": "cf7f1c62-868e-46fc-d6ea-1c7aea62f27a"
   },
   "outputs": [
    {
     "data": {
      "image/png": "[encoded data removed]",
      "text/plain": [
       "<Figure size 1440x720 with 1 Axes>"
      ]
     },
     "metadata": {
      "needs_background": "light"
     },
     "output_type": "display_data"
    }
   ],
   "source": [
    "counts, bins = np.histogram(boxes_model)\n",
    "\n",
    "fig, ax = plt.subplots(figsize=(20,10))\n",
    "plt.hist(boxes_model, density=False, bins=200, color='#273a74')  # density=False would make counts\n",
    "plt.tick_params(direction='out', length=4, width=1, colors='black')\n",
    "\n",
    "plt.ylabel(\"Boxes (Count)\", fontsize=10, color='black')\n",
    "plt.xlabel(\"Box Price in Euros\", fontsize=8, color='black')\n",
    "ax.set_axisbelow(True)\n",
    "plt.grid(True, color='gainsboro', zorder=0)\n",
    "plt.show()"
   ]
  },
  {
   "cell_type": "code",
   "execution_count": null,
   "metadata": {},
   "outputs": [],
   "source": []
  }
 ],
 "metadata": {
  "colab": {
   "collapsed_sections": [],
   "name": "MH2_analysis_single-set.ipynb",
   "provenance": []
  },
  "kernelspec": {
   "display_name": "Python 3",
   "language": "python",
   "name": "python3"
  },
  "language_info": {
   "codemirror_mode": {
    "name": "ipython",
    "version": 3
   },
   "file_extension": ".py",
   "mimetype": "text/x-python",
   "name": "python",
   "nbconvert_exporter": "python",
   "pygments_lexer": "ipython3",
   "version": "3.8.8"
  }
 },
 "nbformat": 4,
 "nbformat_minor": 4
}
