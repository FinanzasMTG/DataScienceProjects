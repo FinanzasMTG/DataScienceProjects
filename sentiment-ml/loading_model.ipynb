{
 "cells": [
  {
   "cell_type": "code",
   "execution_count": 14,
   "id": "scenic-vacation",
   "metadata": {},
   "outputs": [],
   "source": [
    "import pickle\n",
    "import pandas as pd\n",
    "import numpy as np\n",
    "import random\n",
    "from sklearn.feature_extraction.text import CountVectorizer, TfidfVectorizer\n",
    "\n",
    "def TestingReviews(amount=5):\n",
    "    list_rand = []\n",
    "    limit = len(test_data)\n",
    "    rand_row = random.randrange(amount, limit, 1)\n",
    "    for n in range(amount):\n",
    "        rand_row = random.randrange(0, limit, 1)\n",
    "        row_to_test = [test_data.user_review[rand_row]]\n",
    "        row_test = vectorizer.transform(row_to_test)\n",
    "        row_prediction = loaded_model.predict(row_test)[0]\n",
    "        row_proba = loaded_model.predict_proba(row_test)\n",
    "        row_max_proba = round(np.max(row_proba) * 100, 2)\n",
    "        print(\"Review: {}\".format(row_to_test))\n",
    "        print(\"Sentiment: {} - Confidence: {}%\".format(row_prediction, row_max_proba))\n",
    "\n",
    "## LOADING TEST DATA\n",
    "test_data = pd.read_csv('./data/test_reviews.csv')"
   ]
  },
  {
   "cell_type": "code",
   "execution_count": 2,
   "id": "fatty-commons",
   "metadata": {},
   "outputs": [],
   "source": [
    "#LOADING THE MODEL\n",
    "with open('./data/sentiment_clf.pkl', 'rb') as f:\n",
    "  loaded_clf = pickle.load(f)"
   ]
  },
  {
   "cell_type": "code",
   "execution_count": 3,
   "id": "powerful-daughter",
   "metadata": {},
   "outputs": [],
   "source": [
    "filename = './data/finalized_model.sav'\n",
    "\n",
    "loaded_model = pickle.load(open(filename, 'rb'))\n",
    "vectorizer = pickle.load(open('count_vect', 'rb'))"
   ]
  },
  {
   "cell_type": "code",
   "execution_count": 7,
   "id": "cloudy-shanghai",
   "metadata": {},
   "outputs": [
    {
     "data": {
      "text/plain": [
       "array(['POSITIVE 🟢'], dtype='<U10')"
      ]
     },
     "execution_count": 7,
     "metadata": {},
     "output_type": "execute_result"
    }
   ],
   "source": [
    "test_set = ['The game rocks']\n",
    "\n",
    "new_test = vectorizer.transform(test_set)\n",
    "loaded_model.predict(new_test)"
   ]
  },
  {
   "cell_type": "code",
   "execution_count": 5,
   "id": "valid-health",
   "metadata": {},
   "outputs": [
    {
     "data": {
      "text/plain": [
       "array(['NEGATIVE 🔴'], dtype='<U10')"
      ]
     },
     "execution_count": 5,
     "metadata": {},
     "output_type": "execute_result"
    }
   ],
   "source": [
    "test_set = ['The game sucks']\n",
    "\n",
    "new_test = vectorizer.transform(test_set)\n",
    "loaded_model.predict(new_test)"
   ]
  },
  {
   "cell_type": "code",
   "execution_count": 15,
   "id": "quantitative-conference",
   "metadata": {},
   "outputs": [
    {
     "name": "stdout",
     "output_type": "stream",
     "text": [
      "Review: [\"Early Access ReviewThis game was great when it first came out.  I could go in, cast out, catch fish and level up.  Buy new lures because of my level, go to a new destination.  Rinse and repeat with all different species of fish.Now, after this latest update, I spawn in.  I choose a destination and blow a good 3 grand getting to that spot, only to realize that all of my gear has been removed from my character.  And it's not in my inventory, it's back home.  So I can't do anything but leave.  What a great waste of money.I tried to come back and give this game a chance, but now it's just going to get uninstalled.\"]\n",
      "Sentiment: NEGATIVE 🔴 - Confidence: 57.09%\n",
      "Review: ['AWESOME GAME! NOW FREE TO PLAY!!! Great graphics and effects, great story line, great community. This game will leave you coming back time after time to experiance the Star Trek universe! - Hype-365 (Monthly Subscriber)']\n",
      "Sentiment: POSITIVE 🟢 - Confidence: 97.08%\n",
      "Review: ['As of this writing, I have spent 70 hours playing this game.  Pretty much just been playing Solo Battles once I completed the pretty short Story Quests.The Story Quests were pretty fun and I did really enjoy those.  I wish there were a lot more of those to complete or that they added more on a regular basis.The problems I have with this game:The AI is simply \"amazing\" at it\\'s ability to draw the exact cards it needs, when it needs it.  I guess they program this ability in order to make it a challenge vs a human, but come on, there has to be a better way to make an AI challenging than giving it the ungodly ability to draw any card in it\\'s deck to overcome what is going on at the time.  I mean, just put a few Enchant Aura\\'s on a creature to make it more powerful than what the AI has out?  Well, this AI with no cards in its hand, amazingly enough is able to draw a card that returns your creature to the top of your deck.  That is just one example of the seemingly endless ability of this AI to get the card it needs.The Deck Shuffler is just bad.  You either get a Flood of lands or a Dearth of lands.  Can\\'t tell you how many times I have to restart a duel just to get a decent, initial draw.  And heaven forbid if you get a draw with a few lands, some enchant aura\\'s and no creatures.  All you will draw from that point are more lands and more enchant cards until the AI has its big guns out and you have no way to recover.The way to obtain cards is just annoying.  You either grind coins to purchase boosters or you spend cash to buy coins to purchase boosters.  I have no problem with that with it being a F2P game per se, but I have an issue with just being able to purchase boosters.  I wish you had more purchase options.  The AI seems to have access to all manner of cards and to have to fill your decks out with 6-card boosters is just boring to the extreme.  Getting tired of going up against Planeswalkers with no way to seem to be able to obtain any myself.There seems to be no way to back up a phase ...and the Stop Timer is annoying in that there seems to be some delay when you click it and if you are a tad bit slow, you may end up in the next Phase before you meant to get there.  There also seems to be something off during the Block and Damage dealing phase but that just may be me.Wish there were an easier way to see a stack of lands than currently.  For example, if the AI has tapped several lands and I want to cast something that can target a Land, the only way to \"see\" what is in that stack is to hover my mouse over it and wait for it to pop-up with text.  Cumbersome.I have fun playing it most of the time, but the AI is beyond frustrating!']\n",
      "Sentiment: NEGATIVE 🔴 - Confidence: 68.85%\n",
      "Review: [\"As a long term Trek fan this game is brilliant, there have always been and still remain some issues with ground combat, but as a whole this games use of the IP is amazing, they keep adding more and more story content and new exciting ships, every year at christmas and on first contact day they give away prizes and gifts to the community.recently they've added a new game level where you begin in the 23rd century and play in the TOS era but this its self is still part of the story content of the main game. they frequently bring actors from the show in to reprise their roles all of which are woven into the main games story line. There is so much to do and so much to explore and see and learn and play.. this is a MUST for any Trek fan and should be for MMO fans too.\"]\n",
      "Sentiment: POSITIVE 🟢 - Confidence: 72.79%\n",
      "Review: [\"Boring combat.Completely unchallenging gameplay.Worst AI in a game, that I've played in awhile.Riddled with bugs.Questing/EXP cards are the primary way to level unless you want to spend countless hours grinding and there is are not enough quests to continuously progress you through the game.Class balancing is awful.Unforgiving class/stat selection.Too many basic features are blocked by a paywall. ( Trade, Auction House ect )Cash shop prices are inconsistent and unfair for the exact same content.  Example Male hairstyles cost 119TP while females are 178TP. You basically are charged more to play a female and no other reason.This game had a lot of potential, but IMC is quickly ruining this game with poor decision making. \"]\n",
      "Sentiment: NEGATIVE 🔴 - Confidence: 97.33%\n",
      "Review: ['better than the other MTG PC games that have come out since 2007 but thats not saying much. frequently get kicked to offline mode which doesn\\'t allow for story progression. no \"experienced mtg player\" button that lets you skip the \"how to play\" section so if you\\'re like me and have playing the cardboard version for some time. The difficulty of this game in single player is the decks they give you, yeah \"a good player can still win\", pretty easily usually but you\\'re not allowed to use custom built decks in the story mode.']\n",
      "Sentiment: NEGATIVE 🔴 - Confidence: 65.02%\n",
      "Review: ['This is the best game i have ever played in my life not only do i enjoy the game but i enjoy the love it fills my heart with for the most part the wifus are sub par untell u meet the bear of your dreems and then u understand the love i hold for this game']\n",
      "Sentiment: POSITIVE 🟢 - Confidence: 91.09%\n",
      "Review: [\"Gigantic Character Creation, Nice Comic Look,  This for me The Best F2P MMO of the Year,  And for Those you can't or don''t want to spend Money on the In Game shop, You can Do Quests For an Alternativ way Of getting the Money for the Item Shop \"]\n",
      "Sentiment: NEGATIVE 🔴 - Confidence: 52.22%\n",
      "Review: ['I do not recommend.Pro: Nice gaphicsYou can play it on a modest computer.Con: Boring gameplay. Premium ships are better (Pay to win????)To play tier X ships, you actually have to finance it. (Free to play????)You can not use already existing WoWs account Ps.: I have already played this game a lot before it was released on Steam.']\n",
      "Sentiment: NEGATIVE 🔴 - Confidence: 56.43%\n",
      "Review: ['Big time Star Trek fan, Sadly cannot recommend this game, even after over 8 years they cannot seem to get things right.Ground Combat is horrid   * So when you enter a TFO (Team Mission) and 3 people on your team simply leave      because 90% of the population wont run ground, you cannot complete and are forced      to leave as well and you get a 30 min BAN from running any queued mission.EFFING GENIOUS MOVE DEVS...Space Combat is Fun and well done (When not lagging or rubber bandingI play ona top end dual video gaming machine with a 100MB business class cableThis is just in the last month...Server - Rubber Banding/Laggy even when in an instance all aloneEvery weekend event in the last 2 months has been bugged in some way, either you cannot run it at all, or the rewards are bugged to be un-usable. - Plan on randomly just not getting the rewards after finally having a TFO not get bugged - So buggy and riddled with issues they end up having to patch and pull them out of the    game during the event time.MASSIVE CASH GRAB - DSC Xpac is a joke - C-Store sales is all they care about - C-Store is the most expensive I have seen in any game - Still trying to sell $200-$300 life time membershipsSupport - The most pathetic in any game I have ever played - 1 Captain cannot complete the Cold Storage mission, game just crashes same spot    everytime - I have completed the same mission on 2 other Captains - 12 days of back and forth emails giving the devs all the info i can - All answers are canned/copy paste zero effort responses and still nothing fixedSadly this game could be amazing, but the devs just plain do not care and continue to put out very little content and everything they put out is bugged to the point you cannot play.STAY AWAY']\n",
      "Sentiment: NEGATIVE 🔴 - Confidence: 99.73%\n"
     ]
    }
   ],
   "source": [
    "TestingReviews(10)"
   ]
  },
  {
   "cell_type": "code",
   "execution_count": null,
   "id": "extended-interval",
   "metadata": {},
   "outputs": [],
   "source": []
  }
 ],
 "metadata": {
  "kernelspec": {
   "display_name": "Python 3",
   "language": "python",
   "name": "python3"
  },
  "language_info": {
   "codemirror_mode": {
    "name": "ipython",
    "version": 3
   },
   "file_extension": ".py",
   "mimetype": "text/x-python",
   "name": "python",
   "nbconvert_exporter": "python",
   "pygments_lexer": "ipython3",
   "version": "3.8.8"
  }
 },
 "nbformat": 4,
 "nbformat_minor": 5
}
