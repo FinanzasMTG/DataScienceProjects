{
 "cells": [
  {
   "cell_type": "code",
   "execution_count": 6,
   "id": "tired-modeling",
   "metadata": {},
   "outputs": [],
   "source": [
    "import pickle\n",
    "from sklearn.feature_extraction.text import CountVectorizer, TfidfVectorizer"
   ]
  },
  {
   "cell_type": "code",
   "execution_count": 7,
   "id": "surgical-norwegian",
   "metadata": {},
   "outputs": [],
   "source": [
    "#LOADING THE MODEL\n",
    "with open('./data/sentiment_clf.pkl', 'rb') as f:\n",
    "  loaded_clf = pickle.load(f)"
   ]
  },
  {
   "cell_type": "code",
   "execution_count": 13,
   "id": "twenty-encounter",
   "metadata": {},
   "outputs": [],
   "source": [
    "filename = './data/finalized_model.sav'\n",
    "\n",
    "loaded_model = pickle.load(open(filename, 'rb'))\n",
    "vectorizer = pickle.load(open('count_vect', 'rb'))"
   ]
  },
  {
   "cell_type": "code",
   "execution_count": 17,
   "id": "prescribed-center",
   "metadata": {},
   "outputs": [
    {
     "data": {
      "text/plain": [
       "array(['POSITIVE'], dtype='<U8')"
      ]
     },
     "execution_count": 17,
     "metadata": {},
     "output_type": "execute_result"
    }
   ],
   "source": [
    "test_set = ['The game rocks']\n",
    "\n",
    "new_test = vectorizer.transform(test_set)\n",
    "loaded_model.predict(new_test)"
   ]
  },
  {
   "cell_type": "code",
   "execution_count": 18,
   "id": "accurate-formation",
   "metadata": {},
   "outputs": [
    {
     "data": {
      "text/plain": [
       "array(['NEGATIVE'], dtype='<U8')"
      ]
     },
     "execution_count": 18,
     "metadata": {},
     "output_type": "execute_result"
    }
   ],
   "source": [
    "test_set = ['The game sucks']\n",
    "\n",
    "new_test = vectorizer.transform(test_set)\n",
    "loaded_model.predict(new_test)"
   ]
  },
  {
   "cell_type": "code",
   "execution_count": null,
   "id": "subsequent-february",
   "metadata": {},
   "outputs": [],
   "source": []
  }
 ],
 "metadata": {
  "kernelspec": {
   "display_name": "Python 3",
   "language": "python",
   "name": "python3"
  },
  "language_info": {
   "codemirror_mode": {
    "name": "ipython",
    "version": 3
   },
   "file_extension": ".py",
   "mimetype": "text/x-python",
   "name": "python",
   "nbconvert_exporter": "python",
   "pygments_lexer": "ipython3",
   "version": "3.8.8"
  }
 },
 "nbformat": 4,
 "nbformat_minor": 5
}
