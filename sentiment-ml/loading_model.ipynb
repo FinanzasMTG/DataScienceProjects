{
 "cells": [
  {
   "cell_type": "code",
   "execution_count": 12,
   "id": "closed-timing",
   "metadata": {},
   "outputs": [],
   "source": [
    "import pickle\n",
    "import pandas as pd\n",
    "import numpy as np\n",
    "import random\n",
    "from sklearn.feature_extraction.text import CountVectorizer, TfidfVectorizer\n",
    "\n",
    "def TestingReviews(test_data, model, vectorizer, amount:int=5) -> list:\n",
    "    '''\n",
    "    This function will ingest a list of reviews and run the model to predict the reviewer's sentiment.\n",
    "\n",
    "    It will take 5 reviews by default, but you can pass any number you want.\n",
    "    '''\n",
    "    list_rand = []\n",
    "    limit = len(test_data)\n",
    "    rand_row = random.randrange(amount, limit, 1)\n",
    "    for n in range(amount):\n",
    "        rand_row = random.randrange(0, limit, 1)\n",
    "        row_to_test = [test_data.user_review[rand_row]]\n",
    "        row_test = vectorizer.transform(row_to_test)\n",
    "        row_prediction = model.predict(row_test)[0]\n",
    "        row_proba = model.predict_proba(row_test)\n",
    "        row_max_proba = round(np.max(row_proba) * 100, 2)\n",
    "        print(f'Review: {row_to_test}')\n",
    "        print(f'Sentiment: {row_prediction} - Confidence: {row_max_proba}%')\n",
    "\n",
    "## LOADING TEST DATA\n",
    "test_data = pd.read_csv('./data/test_reviews.csv')"
   ]
  },
  {
   "cell_type": "code",
   "execution_count": 8,
   "id": "normal-panel",
   "metadata": {},
   "outputs": [],
   "source": [
    "filename = './data/finalized_model.sav'\n",
    "\n",
    "loaded_model = pickle.load(open(filename, 'rb'))\n",
    "vectorizer = pickle.load(open('count_vect', 'rb'))"
   ]
  },
  {
   "cell_type": "code",
   "execution_count": 9,
   "id": "extraordinary-maple",
   "metadata": {},
   "outputs": [
    {
     "data": {
      "text/plain": [
       "array(['POSITIVE 🟢'], dtype='<U10')"
      ]
     },
     "execution_count": 9,
     "metadata": {},
     "output_type": "execute_result"
    }
   ],
   "source": [
    "test_set = ['The game rocks']\n",
    "\n",
    "new_test = vectorizer.transform(test_set)\n",
    "loaded_model.predict(new_test)"
   ]
  },
  {
   "cell_type": "code",
   "execution_count": 10,
   "id": "sharp-auditor",
   "metadata": {},
   "outputs": [
    {
     "data": {
      "text/plain": [
       "array(['NEGATIVE 🔴'], dtype='<U10')"
      ]
     },
     "execution_count": 10,
     "metadata": {},
     "output_type": "execute_result"
    }
   ],
   "source": [
    "test_set = ['The game sucks']\n",
    "\n",
    "new_test = vectorizer.transform(test_set)\n",
    "loaded_model.predict(new_test)"
   ]
  },
  {
   "cell_type": "code",
   "execution_count": 13,
   "id": "mathematical-interface",
   "metadata": {},
   "outputs": [
    {
     "name": "stdout",
     "output_type": "stream",
     "text": [
      "Review: [\"I love digimon but I couldn't really get into this game.  It's fun for a while but gets way too grindy even more than other mmos that I play. It also doesn't feel very rewarding when it comes to completing quests as much as others do.  The graphics are vastly outdated but yet seem to be a bit much for even high end computers, I have a desktop than can run just about any other mmo on it's highest settings, I'm not sure why and how this one seems to drop frames and studder so much.  Pros+almost every single digimon can be obtained+when you do obtain the digimon you wanted, that's when it feels rewarding+battling digimonCons-outdated graphics-very very grindy-dull characters-very little character customization-a rough interfaceVerdictI don't recommend this as a game but rather as a grind to collect digimon.\"]\n",
      "Sentiment: POSITIVE 🟢 - Confidence: 72.81%\n",
      "Review: ['i have been playing this game over 3 years..... i would have recommanded this game to anyone and everyone.... now the events are way to hard and they have it to were if you pay you win now..... they are corrupt.... and only want you to pay!!! a level 35 destroyed a fleet that was a lvl 54.... there should be no reason why your health drops down to 60 percent reight.....? well no not with kikeye and vega conflict anymore.... :(']\n",
      "Sentiment: NEGATIVE 🔴 - Confidence: 98.99%\n",
      "Review: ['Early Access ReviewBeautiful Pre Alpha but needs a lot of Changes made and some changes to Huntress Squire and Apprentices abilities but all around a great Pre AlphaFor Pre Alpha 10/10If it was final game 6/10']\n",
      "Sentiment: POSITIVE 🟢 - Confidence: 91.26%\n",
      "Review: ['Early Access ReviewOne of the most OVERHYPED Twitch promoted games I have ever played. Has the worst glitches, bullet registration, lag compensation, car mechanics, recoil patterns, pay for skin systems, hackers(anti-cheat), communities, and staff/devs than any game in the market. This is just another♥♥♥♥♥♥polished \"Alpha\" scheme designed to take your money and provide no effort on making it a better game. They just release another sub-portion of the game which they will make you pay for if you want to try it. The streamers of this game are in a constant rage fueled hatred for the game mechanics and publically trash this hogwash of a game daily. The American servers are full of racist, triggerbotters, and Chinese.... If you expect to be able to get flawless shots that will never happen.... If you expect the hitboxes for the Chinese players (half the lobbies you\\'ll join) to be the same as the American players well thats not going to happen.... Imagine trying to slingshot a headless chicken running through a barn. This is 2017 and the game industry is booming, but these people at Daybreak do not give two flying f\\'s about you or their game. Treat yourself to honest developers or stick to triple A releases because this game is a joke.']\n",
      "Sentiment: NEGATIVE 🔴 - Confidence: 97.72%\n",
      "Review: [\"Has some downfalls, but ultimately I can recommend it:- it's MtG- it's free- it has tons of cards- it gives complete freedom to use those cards to build your deckYour library is really poor at the beginning, but you get coins for games won and daily quests - enough to buy 1-2 booster packs every day just by winning 2 duels.The deck builder UI could use some improvements...\"]\n",
      "Sentiment: POSITIVE 🟢 - Confidence: 74.83%\n",
      "Review: [\"Early Access ReviewAn extremely fun game to play, got addicted to it in just an hour, i don't see why i shouldn't recommend this game. Since it's free, just download it and try, you'll love it ;)\"]\n",
      "Sentiment: POSITIVE 🟢 - Confidence: 91.7%\n",
      "Review: [\"I love this game. It's not pay to win and has great graphics. I also love the storylines and reading the conversations of the villagers. They have great sense of humor and things aren't that expensive.\"]\n",
      "Sentiment: POSITIVE 🟢 - Confidence: 94.36%\n",
      "Review: ['Early Access Reviewif you want hi-rez to listen simply dont pay for anything , they will notice when the money stops coming and hopefully fix the game for now its getting a thumbs down from me until the dev listen to its players and fix their game']\n",
      "Sentiment: NEGATIVE 🔴 - Confidence: 94.68%\n",
      "Review: [\"For anyone who is interested in this game and are reading the mixed reviews, let me put it into one short review for everyone as I have been playing this game since beta.This game is a game of grinding and collecting digimon and becoming the best, thats all there is to it. Pros:1. Amazing Digimon Designs2. Fun Dungeons You Can Run With Guild/Friends3. Very Challenging When It Comes To Getting Equipment (Earings, Rings, Necklaces)4. QuestLine Follows Anime Story Line In Multiple SeasonsCons:1. GUI Not The Best2. P2P Players Tend To Boost Price Up Cause Of Greed3. Some Instore Items Has To Be Bought To Progress (Bokomon Books, BM Items)4. Lots Of ScammersInBetween:1. Bots - But In This Server GM's Are Trying Their Best To Remove Them2. GrindFest - You Basically Grind For OursI personally enjoy this game cause of the grind aspect and I enjoy Digimon ever since I was a kid. But these are basically what the game is all about. I only wish to make this more fair for those who cant spend money cause they dont have any or they need it for irl stuff and make items dropable even if its a low percent.\"]\n",
      "Sentiment: POSITIVE 🟢 - Confidence: 78.82%\n",
      "Review: [\"Controls and objectives a bit tricky to understand at first but other than that a very good game to be getting free! If you're a Star Trek nerd or even just like big MMO's then you'll definitely want to try this out!\"]\n",
      "Sentiment: POSITIVE 🟢 - Confidence: 95.69%\n"
     ]
    }
   ],
   "source": [
    "TestingReviews(test_data, loaded_model, vectorizer, 10)"
   ]
  },
  {
   "cell_type": "code",
   "execution_count": null,
   "id": "streaming-ceremony",
   "metadata": {},
   "outputs": [],
   "source": []
  }
 ],
 "metadata": {
  "kernelspec": {
   "display_name": "Python 3",
   "language": "python",
   "name": "python3"
  },
  "language_info": {
   "codemirror_mode": {
    "name": "ipython",
    "version": 3
   },
   "file_extension": ".py",
   "mimetype": "text/x-python",
   "name": "python",
   "nbconvert_exporter": "python",
   "pygments_lexer": "ipython3",
   "version": "3.9.6"
  }
 },
 "nbformat": 4,
 "nbformat_minor": 5
}
