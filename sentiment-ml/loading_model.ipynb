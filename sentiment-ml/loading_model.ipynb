{
 "cells": [
  {
   "cell_type": "code",
   "execution_count": 1,
   "id": "closed-timing",
   "metadata": {},
   "outputs": [],
   "source": [
    "import pickle\n",
    "import pandas as pd\n",
    "import numpy as np\n",
    "import random\n",
    "from sklearn.feature_extraction.text import CountVectorizer, TfidfVectorizer\n",
    "\n",
    "def TestingReviews(amount=5):\n",
    "    list_rand = []\n",
    "    limit = len(test_data)\n",
    "    rand_row = random.randrange(amount, limit, 1)\n",
    "    for n in range(amount):\n",
    "        rand_row = random.randrange(0, limit, 1)\n",
    "        row_to_test = [test_data.user_review[rand_row]]\n",
    "        row_test = vectorizer.transform(row_to_test)\n",
    "        row_prediction = loaded_model.predict(row_test)[0]\n",
    "        row_proba = loaded_model.predict_proba(row_test)\n",
    "        row_max_proba = round(np.max(row_proba) * 100, 2)\n",
    "        print(\"Review: {}\".format(row_to_test))\n",
    "        print(\"Sentiment: {} - Confidence: {}%\".format(row_prediction, row_max_proba))\n",
    "\n",
    "## LOADING TEST DATA\n",
    "test_data = pd.read_csv('./data/test_reviews.csv')"
   ]
  },
  {
   "cell_type": "code",
   "execution_count": 3,
   "id": "normal-panel",
   "metadata": {},
   "outputs": [],
   "source": [
    "filename = './data/finalized_model.sav'\n",
    "\n",
    "loaded_model = pickle.load(open(filename, 'rb'))\n",
    "vectorizer = pickle.load(open('count_vect', 'rb'))"
   ]
  },
  {
   "cell_type": "code",
   "execution_count": 4,
   "id": "extraordinary-maple",
   "metadata": {},
   "outputs": [
    {
     "data": {
      "text/plain": [
       "array(['POSITIVE 🟢'], dtype='<U10')"
      ]
     },
     "execution_count": 4,
     "metadata": {},
     "output_type": "execute_result"
    }
   ],
   "source": [
    "test_set = ['The game rocks']\n",
    "\n",
    "new_test = vectorizer.transform(test_set)\n",
    "loaded_model.predict(new_test)"
   ]
  },
  {
   "cell_type": "code",
   "execution_count": 5,
   "id": "sharp-auditor",
   "metadata": {},
   "outputs": [
    {
     "data": {
      "text/plain": [
       "array(['NEGATIVE 🔴'], dtype='<U10')"
      ]
     },
     "execution_count": 5,
     "metadata": {},
     "output_type": "execute_result"
    }
   ],
   "source": [
    "test_set = ['The game sucks']\n",
    "\n",
    "new_test = vectorizer.transform(test_set)\n",
    "loaded_model.predict(new_test)"
   ]
  },
  {
   "cell_type": "code",
   "execution_count": 6,
   "id": "mathematical-interface",
   "metadata": {},
   "outputs": [
    {
     "name": "stdout",
     "output_type": "stream",
     "text": [
      "Review: [\"been playing this for a bit, a very smooth system that holds your hand if you are new with in game tutorials. (It will literally pause the match you were in to give you an example of some new mechanics). Veterans of the magic games can just tell the game not to alert you of the rules.So, the game itself. The good:-Has a nice campaign that introduces a little bit of back story about planeswalkers and helps you understand the story. -You can pay to get through the game but I have been grinding for money with the free cards availabel and buying boosters that way. Seeing as I have no idea what cards are good and bad, this actually suits me. -game runs smooth as silk, absolutely zero isssues-online matchmaking seems active enough, 3-4 seconds to find a game (writing this is May 2017)-Cards look amazing! -Deck building system is fantastic, filtering by mechanics is great.The bad:-I have played magic before, I wasnt really into it but I owned a couple of decks so I could join in my friends big multiplayer games...there is only 2 headed dragon for more than 2 players, all the other formats seem to be missing. \\\\- For someone who knows how to play but isn't up to date with the new sets (I played this 6 years ago), the game can be overwhelming. Rather than easing you into a few easier mono colour starter sets and then branching out, you are slammed with diffficult to grasp multi coloured decks with an array of different abilites. I tried to introduce a couple of friends to magic through this, they found it far too overwhelming to begin with. the deck building gives you access to an insane amount of cards (thats even before buying boosters) and it took me a while knowing where to start. - Pay to win is still a factor to an extent. I enjoy playing with my free deck, I would even be tempted to put money into the game. But I have come up against some ridiculous decks in online play, kids who have waaaaay too much money to spend. This is not always the case though, and going through the campaigns, completing quests and online battling you can easily get enough money to buy boosters. - People will hate me for this one....but the game is still lacking. By this I mean the card game. I personally feel it hasn't aged well as a card game (although they do try hard) but that 7 card start start 1 card a turn resource system is slow and dated. if you don't kill your oponnent quick, you both end up either playing the top card every turn or sit there land locked which actually happens surprisingly often. This problem is exasperated by the fact that you don't have access to all the good cards that will speed your deck up (without paying of course). On top of that, the 60 card deck means that deck optimization is a bit more difficult. In the course of a game, you will not often get through half your cards. There are better card systems out there (netrunner, warhammer 40k conquest to name a few)  and I feel this is possibly the reason I wouldn't continue spending money on this. I would actually prefer to pay a one off payment for an online LCG with regular updates and I am surprised I haven't seen this yet. Would I recommend it? yeah, its still a great game, good mechanics, free to play, not too grindy and the pay to win is not seen too often (and even when it is, if they get landlocked youc an still flatten them with a starter deck)\"]\n",
      "Sentiment: NEGATIVE 🔴 - Confidence: 67.8%\n",
      "Review: [\"It is an amazing game, it represents what it wants to represent well, and like many games from Wargaming, it's super good, even though a campaign would really be nice, it does not destroy the fun\"]\n",
      "Sentiment: POSITIVE 🟢 - Confidence: 98.37%\n",
      "Review: [\"Game is at it's best, it's such an awesome game, I got it for free obviously when it went Free2play, I never knew this game is that addictive and awesome, especially the autoroyale mode, before getting my hand into this game I thought this is the ♥♥♥♥♥how version of PUBG, but it turns out to be as fun as PUBG can deliever, it's worth the download, this game is just FUN!\"]\n",
      "Sentiment: POSITIVE 🟢 - Confidence: 97.28%\n",
      "Review: ['I was just told I sunk a allied ship which did not happen, however, I got a penalty anyway. How is this possible? I  shot at the enemy half way across the map. Where is is that i hit a team mate?.I call BS ']\n",
      "Sentiment: NEGATIVE 🔴 - Confidence: 72.54%\n",
      "Review: [\"Love it, really fun! idk why people said some comabt update ruined the game, its very fun anyways! Just ran in circles with a police car and got top 10. I've never had more fun in a videogame! Download it now! NOW!\"]\n",
      "Sentiment: POSITIVE 🟢 - Confidence: 89.71%\n",
      "Review: [\"Don't let the ranking system fool you, everyone is silver. I don't know what else to write so here's a CS:GO Match Making cake recipe:250 Grams of Butter4 Eggs (your team)100 grams of your own tears (salted)1 tbsp of SaltAnother tbsp of SaltMore salt??A cup of salt (salted)You know what?Just add the entire ♥♥♥♥ing shaker in thereDried ocean water (just the salt)Blood of a sacrificial lambPapa Smurf's hat1) Draw your pentagram on the ground, using the Lamb's blood.2) Chant you prayers to Gabe3) You only need to preheat the oven to 10 degrees because everyone is already baked as ♥♥♥♥4) Enjoy your cake! Why is it blue you ask? Why that's because it's the only thing Gabe will give you! Blues!666/10. Would sell my soul if I had one. \"]\n",
      "Sentiment: NEGATIVE 🔴 - Confidence: 57.75%\n",
      "Review: ['Early Access ReviewI love strategy games and, having liked clash royale apart from the crappy progression system. this game fixes those issues and brings in a decent way to unlock the heroes you want.']\n",
      "Sentiment: POSITIVE 🟢 - Confidence: 55.37%\n",
      "Review: ['  Star Trek Online is an oddity among games. While most that have bad releases generally die off after a short period of time, not only has Star Trek Online survived for years, its become a wildly successful MMORPG... and for very good reason. Of all the Star Trek being produced right now, this game risks to cover a period of time that nobody else seems to want to touch anymore: The Future, several decades after the events of Star Trek Nemesis and Deep Space Nine.  I am a massive Star Trek fan. This has made a lot of the single-player games to be very lack-luster to me since most of them force you into a specific role and generally its one of an action hero, something that is contrary to what Star Trek was supposed to be. Other then the adventure games like \\'A Final Unity\\', \\'25th Anniversary\\' and \\'Judgement Rites\\', most Star Trek games completely miss the spirit of the show. This game, while having a definite focus on combat, breaks up the fighting with numerous other mini-games, tasks, and puzzles. You can send out crew on away missions, once you hit higher levels and become an Admiral you can send out ships you originally commanded on missions, you can go mining for dilithium, pick up daily missions, work on your reputation with different factions, patrol worlds that aren\\'t even part of a quest, or even play content created by other players and deemed good enough to be placed in-game. If I were to compare this to AAA titles like World of WarCraft I would have to give it and advantage in the sheer number of things you can do to keep the game feeling fun.  Gameplay works very well, especially in space. The ships handle like they should, the weapons are exactly the way they should be, and the powers all seem like they have a place. The graphics are very high-end but can be edited around so you can run the game on lower-tier systems.  I would be amiss if I didn\\'t mention the best part of this game, and that is customization. Hair, facial structure, species, body proportions are all fully customizable, especially if you choose to make a custom alien species! Uniforms are available from every single era of Star Trek including the future uniforms and alternate universe uniforms if you want to spend a couple bucks. You are able to command every single starship made popular by the Star Trek series, from the original Enterprise to the USS Defiant. Some special ships are available as well which only appeared in a single episode like the Prometheus-Class, or the Dauntless. Variations on ships are available as well like the Saratoga version of the Miranda-Class seen in the first episode of Deep Space Nine. A painstaking amount of effort was made to allow players to utilize any ship they wanted, even having ways of using a Constitution Class in the end-game. Of course, when you see the ships designed by the STO team as Starfleets newest vessels you may not want to bother with the original ships since the new designs are exemplary. Most of these ships act as updated versions of earlier ships like the Resolute-Class being a modern overhaul of the Excelsior-Class. There are a few which are completely unique and its obvious the team loves Star Trek because they are faithful to Star Trek while still looking suitably advanced.   Ship Equipment is another way you can customize this game. Their are numerous weapon styles based on the ones seen in the series. Phasers, Disruptors, Plasma, Tetryon, and many more different forms of weaponry all pertaining to even the more obscure species, plus combinations of these different types and special weapons you find along the way, like the Klingon \"Hargh\\'peng\" Doomsday Weapon killing torpedo. Almost every part of your ship can be upgraded and enhanced, sometimes with interesting visual effects on the ship which can be turned on or off.  I mentioned the crew before but a quick blurb on them is appropriate since they are also completely customizable. You may not get what you want at the start but over time of finding bridge officers and customizing them you eventually will have a ship full of characters you designed yourself, in the positions you want them in.  If my massive gush-fest wasn\\'t enough to say so: In this game, if you cannot find a combination of uniform/ship/crew that makes you happy, you either aren\\'t looking hard enough or you aren\\'t really interested in Star Trek.  The sound is all spot on and its fun to play a captain from the \\'Original Series\\' era because a lot of the effects and sounds are replaced to reflect the more classic style. Much effort has been made to make sure the immersion is perfect, with little touches like the Klingons, Federation, and Romulans having different transport effects. Overall, the attention to detail is impressive and helps make the whole game feel polished. It doesn\\'t hurt that they keep pulling in cast members from the series to voice act their characters in-game. Characters like Geordi La Forge, Worf, the Doctor, Seven of Nine, and numerous others all make an appearance, reprised by their respective actors. It all helps make the game feel that much more authentic.  ON THE OTHER HAND!   Star Trek Online\\'s theme song is suitably heroic and sounds sufficiently \\'Star Trek\\' but the few other songs in the game tend to repeat, making it a little annoying after a while of hearing the same song from Vulcan playing while you are fighting Borg on a damaged Cube. So the music is a low point in this game.   Additionally there are still some graphical glitches that come up, and the ground combat is generally annoying. It is still a sight better then when the game first came out but its like upgrading from a Shark latched onto your leg to a Piranha latched onto your butt. One isn\\'t quite as bad as the other but its still not very pleasent.  There are micro-transactions which can be used to purchase additional ships, appearances, crew members, officers, etc. If you don\\'t mind a little hard work you can get the micro-transaction currency through the in-game resource \\'Dilithium\\'. Not that you really need to buy additional customization because there is already so many options its mind-boggling. While I am not too worried about the transactions I know many people don\\'t like them. Pricing can be pretty varried. This may have something to do with the Dilithium system and the team not wanting to make it easy to get entire ships through in-game grinding, but it can be annoying at times. Entire costume packs consisting of numerous extra appearance options can cost a very reasonable $5.50 USD, but a top-tier ship (T6) generally costs $30.00 USD which can get really pricy. Thankfully once you get one T6 ship you generally are set to go on ships for the forseeable future, you just have to start with upgrading the ship equipment.  In conclusion, it\\'s a fantastic MMORPG that keeps getting updates and keeps getting better. If you are a Star Trek fan and want to command your own ship there is no reason to not play this at least a bit.']\n",
      "Sentiment: NEGATIVE 🔴 - Confidence: 69.24%\n",
      "Review: ['i know i know... i did not played this game much in steam..... but i did it alot on their own launcher.this game means alot for me.i like the comic style and the character creation.the citys wich you are playing in are very nice!i dont know how to say things about this game. that may sound strange but i dont know how to reccomend it to you.dont look at the release date of the game, its still fun after that many years!']\n",
      "Sentiment: NEGATIVE 🔴 - Confidence: 57.44%\n",
      "Review: [\"It's a atypical mmorog with really sad low level quests and to much content blocked from free users. In the time I played I invested at least 20 dollars to keep the experience enjoyable. I do love the setting but can do without the generic feel\"]\n",
      "Sentiment: POSITIVE 🟢 - Confidence: 68.94%\n"
     ]
    }
   ],
   "source": [
    "TestingReviews(10)"
   ]
  },
  {
   "cell_type": "code",
   "execution_count": null,
   "id": "streaming-ceremony",
   "metadata": {},
   "outputs": [],
   "source": []
  }
 ],
 "metadata": {
  "kernelspec": {
   "display_name": "Python 3",
   "language": "python",
   "name": "python3"
  },
  "language_info": {
   "codemirror_mode": {
    "name": "ipython",
    "version": 3
   },
   "file_extension": ".py",
   "mimetype": "text/x-python",
   "name": "python",
   "nbconvert_exporter": "python",
   "pygments_lexer": "ipython3",
   "version": "3.8.8"
  }
 },
 "nbformat": 4,
 "nbformat_minor": 5
}
